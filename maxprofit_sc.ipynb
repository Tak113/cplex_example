{
    "cells": [
        {
            "cell_type": "markdown",
            "metadata": {},
            "source": "# Maximize the profit of an semiconductor company\nthis explains the way we set decision optimization engine for company profit optimization based on a demand forecast, marketing campaign upsell/cost, selling price, production/material cost, and several types of products and material sets combinations."
        },
        {
            "cell_type": "markdown",
            "metadata": {},
            "source": "![test](https://firebasestorage.googleapis.com/v0/b/mionosuke-db.appspot.com/o/category%2Fmionosuke_category.png?alt=media&token=e818b9c9-1685-42a4-80a7-19e2d65f3b2a)"
        },
        {
            "cell_type": "markdown",
            "metadata": {},
            "source": "## Assumptions\n1. **High level overview:**  \n    1. Semiconductor company manufactures different types of products for different market segment : mobile, client, and server. Each types of product is assembled by integrating different types of Si chips that must be either purchased(outsource) or internally manufactured. The company would like to maximize their profit\n    1. The chip integration problem (a.k.a dissaggregation) consists of calculating different combinations of chips according to specific performance criteria from each market segment\n1. **Market segmentation:**\n    1. Three types of products are manufactured : mobile, client, and server\n    1. Each type of product is manufactured by integrating three types of Silicone: internal_gen1, internal_gen2, and external_gen3\n1. **Requirement Spec:**\n    1. The product must satisfy some performance criteria with respect to their core count and  power delivery, thus constraining the possible integrations\n    1. The company must also satisfy its customer demand, which is 3,000 units/day of mobile, 2,000 units/day of client, and 1,000 units/day of server\n1. **Constraints:**\n    1. The company can manufacture 5,000 units of each type of Silicone per day and can internally process at most 8,000 units a day\n    1. The company can purchase 6,000 units of external Silicone per day\n    1. The company can assembles Silicons into products 12,000 units a day with the combination of internal and external Silicon\n1. **Opportunity:**\n    1. In addition, the company has the option of advertising a product, in which case the demand for this type of product increases by 10 units for every dollar spent\n1. **Manufacturing Assumption:**\n    1. Finally, it costs 4 dollars for mobile, 8 dollars for client, and 20 dollars for servers to manufacture a product for assembly/test (assume yield loss are included)"
        },
        {
            "cell_type": "markdown",
            "metadata": {},
            "source": "## Frame : Prescriptive analysis\n1. Prescriptive analysis recommends actions based on desired outcomes, taking into account specific scenarios, ressources, and knowledge of past and current events. This insight can help organization make better decisions and have greater control of business outcomes, giving org a strong competitive advantage\n1. Prescriptive analysis requires to set constraints as well as variables as its model development\n\n* Use Cases;  \n    1. Automate complex decisions and trade-offs to better manage limited resources (ie. portfolio)\n    1. Take advantage of a future opportunity or mitigate a future risk\n    1. Proactively update recommendations based on changing events/assumptions\n    1. Meet operational goals, increase customer loyalty, prevent threats and fraud, and optimize business processes\n"
        },
        {
            "cell_type": "markdown",
            "metadata": {},
            "source": "## Use decision optimization\n\n1. [Step 1 : Import the library](#Step-1-:-Import-the-library)\n1. [Step 2 : Model the data](#Step-2-:-Model-the-data)\n1. [Step 3 : Set up the prescriptive model : Optimization model and Variables](#Step-3-:-Set-up-the-prescriptive-model-:-Optimization-model-and-Variables)\n1. [Step 4 : Set up the prescriptive model : Constraints](#Step-4-:-Set-up-the-prescriptive-model-:-Constraints)\n1. [Step 5 : Express the objective](#Step-5-:-Express-the-objective)\n1. [Step 6 : Investigate the solution](#Step-6-:-Investigate-the-solution)"
        },
        {
            "cell_type": "markdown",
            "metadata": {
                "collapsed": true
            },
            "source": "### Step 1 : Import the library\n[<<back](#Use-decision-optimization)  \nThe Docplex library contains the two modeling packages, Mathematical Programming (docplex.mp) and Constraint Programming (docplex.cp). This what-ifs would use mathematical programming"
        },
        {
            "cell_type": "code",
            "execution_count": 1,
            "metadata": {},
            "outputs": [],
            "source": "import sys\ntry:\n    import docplex.mp\nexcept:\n    raise Exception('Please install docplex')"
        },
        {
            "cell_type": "code",
            "execution_count": 2,
            "metadata": {},
            "outputs": [],
            "source": "try:\n    import cplex\nexcept:\n    raise Exception('Please install cplex')"
        },
        {
            "cell_type": "markdown",
            "metadata": {},
            "source": "### Step 2 : Model the data"
        },
        {
            "cell_type": "markdown",
            "metadata": {},
            "source": "[<<back](#Use-decision-optimization)  \nContain data into 2 dimemsional numpy array"
        },
        {
            "cell_type": "code",
            "execution_count": 3,
            "metadata": {},
            "outputs": [],
            "source": "import numpy as np\n\n# types of product\npr_names = ['mobile', 'client', 'server']\n\n# data for each product type; capacity requirement(u/day), selling price ($/u),\n# core count, power delivery, and manufacturing cost ($/u)\npr_data = np.array([[3000, 30, 5, 3, 3], [2000, 60, 10, 5, 6], [1000, 200, 50, 10, 20]])\n\n# types of silicon\nsi_names = ['int_g1', 'int_g2', 'ext_g3']\n\n# data for each si type; capacity can be manufactured(or purchased) (u/day), cost($/u), core count and power delivery\nsi_data = np.array([[10000, 3, 1, 1], [8000, 4, 2, 2], [12000, 10, 5, 3]])"
        },
        {
            "cell_type": "code",
            "execution_count": 4,
            "metadata": {},
            "outputs": [
                {
                    "name": "stdout",
                    "output_type": "stream",
                    "text": "Number of products types = 3\nNumber of silicon types = 3\nNumber of internal silicon types = 2\n"
                }
            ],
            "source": "# length and range for product and silicon, which will be used for variable setting\nnb_pr = len(pr_names)\nnb_si = len(si_names)\nrange_pr = range(nb_pr)\nrange_si = range(nb_si)\n\n# internal Si\n# internal si is currently manually sorted\nnb_si_int = len(si_names) - 1\nrange_si_int = range(nb_si_int)\n\nprint('Number of products types = {0}'.format(nb_pr))\nprint('Number of silicon types = {0}'.format(nb_si))\nprint('Number of internal silicon types = {0}'.format(nb_si_int))"
        },
        {
            "cell_type": "code",
            "execution_count": 5,
            "metadata": {},
            "outputs": [],
            "source": "# global data\n\n# internal production limit per day (u/day) : int_g1 + int_g2\nproduction_max = 20000\n\n# advertisement oppy : each $1 spent on advertising increases demand by 0.05 units (UoM : u/$, 1/0.05 = $20 equivalent!)\nadvert_return = 0.05"
        },
        {
            "cell_type": "markdown",
            "metadata": {},
            "source": "#### Prepare the data\nconvert numpy to pandas"
        },
        {
            "cell_type": "code",
            "execution_count": 6,
            "metadata": {},
            "outputs": [],
            "source": "# product table\nimport pandas as pd\nprpd = pd.DataFrame([(pr_names[i], int(pr_data[i][0]), int(pr_data[i][1]), int(pr_data[i][2]),\n                       int(pr_data[i][3]), int(pr_data[i][4]))\n                      for i in range_pr])\nprpd.columns = ['name', 'demand', 'price', 'core', 'pd', 'mfg cost']"
        },
        {
            "cell_type": "code",
            "execution_count": 7,
            "metadata": {},
            "outputs": [
                {
                    "data": {
                        "text/html": "<div>\n<style scoped>\n    .dataframe tbody tr th:only-of-type {\n        vertical-align: middle;\n    }\n\n    .dataframe tbody tr th {\n        vertical-align: top;\n    }\n\n    .dataframe thead th {\n        text-align: right;\n    }\n</style>\n<table border=\"1\" class=\"dataframe\">\n  <thead>\n    <tr style=\"text-align: right;\">\n      <th></th>\n      <th>name</th>\n      <th>demand</th>\n      <th>price</th>\n      <th>core</th>\n      <th>pd</th>\n      <th>mfg cost</th>\n    </tr>\n  </thead>\n  <tbody>\n    <tr>\n      <th>0</th>\n      <td>mobile</td>\n      <td>3000</td>\n      <td>30</td>\n      <td>5</td>\n      <td>3</td>\n      <td>3</td>\n    </tr>\n    <tr>\n      <th>1</th>\n      <td>client</td>\n      <td>2000</td>\n      <td>60</td>\n      <td>10</td>\n      <td>5</td>\n      <td>6</td>\n    </tr>\n    <tr>\n      <th>2</th>\n      <td>server</td>\n      <td>1000</td>\n      <td>200</td>\n      <td>50</td>\n      <td>10</td>\n      <td>20</td>\n    </tr>\n  </tbody>\n</table>\n</div>",
                        "text/plain": "     name  demand  price  core  pd  mfg cost\n0  mobile    3000     30     5   3         3\n1  client    2000     60    10   5         6\n2  server    1000    200    50  10        20"
                    },
                    "execution_count": 7,
                    "metadata": {},
                    "output_type": "execute_result"
                }
            ],
            "source": "prpd"
        },
        {
            "cell_type": "code",
            "execution_count": 8,
            "metadata": {},
            "outputs": [],
            "source": "# silicon table\nsipd = pd.DataFrame([(si_names[i], int(si_data[i][0]), int(si_data[i][1]), int(si_data[i][2]), int(si_data[i][3]))\n                      for i in range_si])\nsipd.columns = ['name', 'capacity', 'cost', 'core', 'pd']"
        },
        {
            "cell_type": "code",
            "execution_count": 9,
            "metadata": {},
            "outputs": [
                {
                    "data": {
                        "text/html": "<div>\n<style scoped>\n    .dataframe tbody tr th:only-of-type {\n        vertical-align: middle;\n    }\n\n    .dataframe tbody tr th {\n        vertical-align: top;\n    }\n\n    .dataframe thead th {\n        text-align: right;\n    }\n</style>\n<table border=\"1\" class=\"dataframe\">\n  <thead>\n    <tr style=\"text-align: right;\">\n      <th></th>\n      <th>name</th>\n      <th>capacity</th>\n      <th>cost</th>\n      <th>core</th>\n      <th>pd</th>\n    </tr>\n  </thead>\n  <tbody>\n    <tr>\n      <th>0</th>\n      <td>int_g1</td>\n      <td>10000</td>\n      <td>3</td>\n      <td>1</td>\n      <td>1</td>\n    </tr>\n    <tr>\n      <th>1</th>\n      <td>int_g2</td>\n      <td>8000</td>\n      <td>4</td>\n      <td>2</td>\n      <td>2</td>\n    </tr>\n    <tr>\n      <th>2</th>\n      <td>ext_g3</td>\n      <td>12000</td>\n      <td>10</td>\n      <td>5</td>\n      <td>3</td>\n    </tr>\n  </tbody>\n</table>\n</div>",
                        "text/plain": "     name  capacity  cost  core  pd\n0  int_g1     10000     3     1   1\n1  int_g2      8000     4     2   2\n2  ext_g3     12000    10     5   3"
                    },
                    "execution_count": 9,
                    "metadata": {},
                    "output_type": "execute_result"
                }
            ],
            "source": "sipd"
        },
        {
            "cell_type": "markdown",
            "metadata": {},
            "source": "### Step 3 : Set up the prescriptive model : Optimization model and Variables\n[<<back](#Use-decision-optimization)  \n#### Create the docplex model\nA model is needed to store all the variables and constraints needed to formulate the business problem and submit the problem to the solve service"
        },
        {
            "cell_type": "code",
            "execution_count": 10,
            "metadata": {},
            "outputs": [],
            "source": "from docplex.mp.model import Model\nmdl = Model(name='product_mix')"
        },
        {
            "cell_type": "markdown",
            "metadata": {},
            "source": "#### Define the decision variables\nFor each combination of silicon and product, we have to decide the quantity of silicon chip to use to produce a product. A decision variable will be needed to represent that amount. A matrix of integer variables, indexed by the set of silicon and the set of product needs to be created"
        },
        {
            "cell_type": "code",
            "execution_count": 11,
            "metadata": {},
            "outputs": [],
            "source": "# lb(lower bound) can be set by variable, and use a list in the case, ex) lb = [0,0,0,1,1,1,2,2,2]\n# nb_si x nb_pr matrix = 9 vars\n# unit of measure : units\n# Silicon mix variables against products\nmix = mdl.continuous_var_matrix(keys1 = nb_si, keys2 = nb_pr, lb = 0)"
        },
        {
            "cell_type": "code",
            "execution_count": 12,
            "metadata": {},
            "outputs": [
                {
                    "data": {
                        "text/plain": "{(0, 0): docplex.mp.Var(type=C),\n (0, 1): docplex.mp.Var(type=C),\n (0, 2): docplex.mp.Var(type=C),\n (1, 0): docplex.mp.Var(type=C),\n (1, 1): docplex.mp.Var(type=C),\n (1, 2): docplex.mp.Var(type=C),\n (2, 0): docplex.mp.Var(type=C),\n (2, 1): docplex.mp.Var(type=C),\n (2, 2): docplex.mp.Var(type=C)}"
                    },
                    "execution_count": 12,
                    "metadata": {},
                    "output_type": "execute_result"
                }
            ],
            "source": "# example;\n# (0,0) : int_gen1 mix for mobile\n# (0,1) : int_gen1 mix for client\n# (0,2) : int_gen1 mix for server\nmix"
        },
        {
            "cell_type": "markdown",
            "metadata": {},
            "source": "We also have to dedcide how much should be spent on products in advertising for each type of product. To do so, we will create a list of continuous variables, indexed by the products type"
        },
        {
            "cell_type": "code",
            "execution_count": 13,
            "metadata": {},
            "outputs": [],
            "source": "# nb_pr = 3\n# unit of measure : dollar (advertising cost)\n# var : $ spent for mobile, $ spent for client, and $ spent for server\nadverts = mdl.continuous_var_list(nb_pr, lb = 0)"
        },
        {
            "cell_type": "code",
            "execution_count": 14,
            "metadata": {},
            "outputs": [
                {
                    "data": {
                        "text/plain": "[docplex.mp.Var(type=C), docplex.mp.Var(type=C), docplex.mp.Var(type=C)]"
                    },
                    "execution_count": 14,
                    "metadata": {},
                    "output_type": "execute_result"
                }
            ],
            "source": "adverts"
        },
        {
            "cell_type": "markdown",
            "metadata": {},
            "source": "### Step 4 : Set up the prescriptive model : Constraints\n[<<back](#Use-decision-optimization)  \n#### Express the business constraints\nThe business constraints are the following:\n1. The capacity constraint on each Si type must also be satisfied\n1. The total internal Si production has to be the maximum production capacity (<= 8,000)\n1. For each product type, the core count must be above a minimum level, and the power delivery must be below a maximum level. Both are summation from chips\n1. The demand for each product type must be satisfied. The total demand includes the initial demand as stored in the data, plus a variable demand caused by the advertising. This increase is assumed to be proportional to the advertising cost"
        },
        {
            "cell_type": "markdown",
            "metadata": {},
            "source": "#### 1) Production Capacity Limitation : Each Silicon\nEach silicon has their its own capacity limitation regardless of internal or external"
        },
        {
            "cell_type": "code",
            "execution_count": 15,
            "metadata": {
                "scrolled": true
            },
            "outputs": [
                {
                    "name": "stdout",
                    "output_type": "stream",
                    "text": "Model: product_mix\n - number of variables: 12\n   - binary=0, integer=0, continuous=12\n - number of constraints: 3\n   - linear=3\n - parameters: defaults\n - objective: none\n - problem type is: LP\n"
                }
            ],
            "source": "# production capacity is si_data numpy array field #0 (si_data[p][0])\nmdl.add_constraints(mdl.sum(mix[s, p] for p in range_pr) <= si_data[s][0]\n                    for s in range_si )\nmdl.print_information()"
        },
        {
            "cell_type": "markdown",
            "metadata": {},
            "source": "#### 2) Production Capacity Limitation : Internal Manufacturing\nInternal production has a total capacity limitation on top of (1)"
        },
        {
            "cell_type": "code",
            "execution_count": 16,
            "metadata": {},
            "outputs": [
                {
                    "name": "stdout",
                    "output_type": "stream",
                    "text": "Model: product_mix\n - number of variables: 12\n   - binary=0, integer=0, continuous=12\n - number of constraints: 4\n   - linear=4\n - parameters: defaults\n - objective: none\n - problem type is: LP\n"
                }
            ],
            "source": "# -- maximum internal production\nmdl.add_constraint(mdl.sum(mix[s, p] for s in range_si_int for p in range_pr) <= production_max)\n\nmdl.print_information()"
        },
        {
            "cell_type": "markdown",
            "metadata": {},
            "source": "#### 3) Demand, Core count, and Power delivery : identifying # chips to be in one product\nFor each product type, the core count must be above a minimum level, and the power delivery must be below a maximum level\nManufacturing volumne has to satisfy following core count and power delivery requirement as well as customer demand and advertisement upsell\n1. Core Count : The more core count, better performance\n1. Power Delivery : The less power delivery, better TDP"
        },
        {
            "cell_type": "code",
            "execution_count": 17,
            "metadata": {},
            "outputs": [
                {
                    "data": {
                        "text/plain": "[docplex.mp.LinearConstraint[](x1+2x4+5x7,GE,0.250x10+15000),\n docplex.mp.LinearConstraint[](x2+2x5+5x8,GE,0.500x11+20000),\n docplex.mp.LinearConstraint[](x3+2x6+5x9,GE,2.500x12+50000)]"
                    },
                    "execution_count": 17,
                    "metadata": {},
                    "output_type": "execute_result"
                }
            ],
            "source": "# minimum core count\n# core count is numpy arran field #2 (si_data[s][2])\n# core count at each products has to be above the requirement for each products (pr_data[p][2])\nmdl.add_constraints(mdl.sum(mix[s, p] * si_data[s][2] for s in range_si) >=\n                    pr_data[p][2] * (pr_data[p][0] + advert_return * adverts[p])\n                   for p in range_pr)"
        },
        {
            "cell_type": "code",
            "execution_count": 45,
            "metadata": {},
            "outputs": [
                {
                    "data": {
                        "text/plain": "[docplex.mp.LinearConstraint[](x1+2x4+3x7,LE,30x10+9000),\n docplex.mp.LinearConstraint[](x2+2x5+3x8,LE,50x11+10000),\n docplex.mp.LinearConstraint[](x3+2x6+3x9,LE,100x12+10000)]"
                    },
                    "execution_count": 45,
                    "metadata": {},
                    "output_type": "execute_result"
                }
            ],
            "source": "# maximum power delivery\n# power delivery for si is numpy array field #3 (si_data[s][3])\n# power delivery at each product has to be less than maximum power delivery requirement at each product (pr_data[p][3])\nmdl.add_constraints(mdl.sum(mix[s, p] * si_data[s][3] for s in range_si) <=\n                    pr_data[p][3] * (pr_data[p][0] + advert_return * adverts[p]) \n                   for p in range_pr)"
        },
        {
            "cell_type": "markdown",
            "metadata": {},
            "source": "### Step 5 : Express the objective\n[<<back](#Use-decision-optimization)  \n1. The objective(goal) is to maximize profit, which is made from sales of the final products minus total costs. The costs consist of the purchase cost of the external silicon, production costs for internal si, production cost for assy(si_data[s][4])\n1. The model maximizes the net revenue, that is revenue minus si cost and assy mfg production cost, to which we subtract the total advertising cost as well\n1. To define business objective, let's define a few KPIs:\n    1. Total advertising cost\n    1. Total si cost\n    1. Total production cost\n    1. Total revenue"
        },
        {
            "cell_type": "code",
            "execution_count": 18,
            "metadata": {},
            "outputs": [
                {
                    "data": {
                        "text/plain": "DecisionKPI(name=revenue,expr=1.500x10+3x11+10x12+410000)"
                    },
                    "execution_count": 18,
                    "metadata": {},
                    "output_type": "execute_result"
                }
            ],
            "source": "# KPIs\n\n# adverting cost\ntotal_advert_cost = mdl.sum(adverts)\nmdl.add_kpi(total_advert_cost, 'advert cost')\n\n# internal si cost\ntotal_int_si_cost = mdl.sum(mix[s, p] * si_data[s][1] for s in range_si_int for p in range_pr)\nmdl.add_kpi(total_int_si_cost, 'int si cost')\n\n# external si cost\ntotal_ext_si_cost = mdl.sum(mix[2, p] * si_data[2][1] for p in range_pr)\nmdl.add_kpi(total_ext_si_cost, 'ext si cost')\n\n# assy production cost\ntotal_production_cost = mdl.sum((pr_data[p][0] + advert_return * adverts[p]) * pr_data[p][4] for p in range_pr)\nmdl.add_kpi(total_production_cost, 'assy cost')\n\n# net revenue\n# numpy array field 1 for gas_data is selling price\ntotal_revenue = mdl.sum((pr_data[p][0] + advert_return * adverts[p]) * pr_data[p][1] for p in range_pr)\nmdl.add_kpi(total_revenue, 'revenue')"
        },
        {
            "cell_type": "code",
            "execution_count": 19,
            "metadata": {},
            "outputs": [
                {
                    "name": "stdout",
                    "output_type": "stream",
                    "text": "Model: product_mix\n - number of variables: 12\n   - binary=0, integer=0, continuous=12\n - number of constraints: 7\n   - linear=7\n - parameters: defaults\n - objective: none\n - problem type is: LP\n"
                }
            ],
            "source": "mdl.print_information()"
        },
        {
            "cell_type": "code",
            "execution_count": 20,
            "metadata": {},
            "outputs": [],
            "source": "# finally the objective : net revenue\nmdl.maximize(total_revenue - total_int_si_cost - total_ext_si_cost - total_production_cost - total_advert_cost)\n# mdl.maximize(total_revenue)"
        },
        {
            "cell_type": "markdown",
            "metadata": {},
            "source": "#### Solve with decision optimization"
        },
        {
            "cell_type": "code",
            "execution_count": 21,
            "metadata": {},
            "outputs": [
                {
                    "name": "stdout",
                    "output_type": "stream",
                    "text": "* model product_mix solved with objective = 190400.000\n*  KPI: advert cost = 2000.000\n*  KPI: int si cost = 62000.000\n*  KPI: ext si cost = 120000.000\n*  KPI: assy cost   = 41600.000\n*  KPI: revenue     = 416000.000\n"
                }
            ],
            "source": "assert mdl.solve(), 'Solve failed'\nmdl.report()"
        },
        {
            "cell_type": "code",
            "execution_count": 22,
            "metadata": {},
            "outputs": [
                {
                    "data": {
                        "text/plain": "docplex.mp.SolveDetails(time=0.00127101,status='optimal')"
                    },
                    "execution_count": 22,
                    "metadata": {},
                    "output_type": "execute_result"
                }
            ],
            "source": "# in case solve failed, to see detail error model (or just optimization infeasible)\nmdl.solve_details"
        },
        {
            "cell_type": "code",
            "execution_count": 23,
            "metadata": {
                "scrolled": true
            },
            "outputs": [
                {
                    "name": "stdout",
                    "output_type": "stream",
                    "text": "objective: 190400.000\n  x2=10000.000\n  x4=2500.000\n  x5=5500.000\n  x7=2000.000\n  x9=10000.000\n  x11=2000.000\n"
                }
            ],
            "source": "mdl.print_solution()"
        },
        {
            "cell_type": "markdown",
            "metadata": {},
            "source": "### Step 6 : Investigate the solution\n[<<back](#Use-decision-optimization)  \n#### Displaying the solution\nFirst, get the KPIs values and store them in a pandas dataframe then visualize"
        },
        {
            "cell_type": "code",
            "execution_count": 24,
            "metadata": {},
            "outputs": [
                {
                    "data": {
                        "text/plain": "[('advert cost', 2000.0),\n ('int si cost', 62000.0),\n ('ext si cost', 120000.0),\n ('assy cost', 41600.0),\n ('revenue', 416000.0)]"
                    },
                    "execution_count": 24,
                    "metadata": {},
                    "output_type": "execute_result"
                }
            ],
            "source": "# gather data in an array\nall_kpis = [(kp.name, kp.compute()) for kp in mdl.iter_kpis()]\nall_kpis"
        },
        {
            "cell_type": "code",
            "execution_count": 25,
            "metadata": {
                "scrolled": true
            },
            "outputs": [
                {
                    "data": {
                        "text/html": "<div>\n<style scoped>\n    .dataframe tbody tr th:only-of-type {\n        vertical-align: middle;\n    }\n\n    .dataframe tbody tr th {\n        vertical-align: top;\n    }\n\n    .dataframe thead th {\n        text-align: right;\n    }\n</style>\n<table border=\"1\" class=\"dataframe\">\n  <thead>\n    <tr style=\"text-align: right;\">\n      <th></th>\n      <th>kpi</th>\n      <th>value</th>\n    </tr>\n  </thead>\n  <tbody>\n    <tr>\n      <th>0</th>\n      <td>advert cost</td>\n      <td>2000.0</td>\n    </tr>\n    <tr>\n      <th>1</th>\n      <td>int si cost</td>\n      <td>62000.0</td>\n    </tr>\n    <tr>\n      <th>2</th>\n      <td>ext si cost</td>\n      <td>120000.0</td>\n    </tr>\n    <tr>\n      <th>3</th>\n      <td>assy cost</td>\n      <td>41600.0</td>\n    </tr>\n    <tr>\n      <th>4</th>\n      <td>revenue</td>\n      <td>416000.0</td>\n    </tr>\n  </tbody>\n</table>\n</div>",
                        "text/plain": "           kpi     value\n0  advert cost    2000.0\n1  int si cost   62000.0\n2  ext si cost  120000.0\n3    assy cost   41600.0\n4      revenue  416000.0"
                    },
                    "execution_count": 25,
                    "metadata": {},
                    "output_type": "execute_result"
                }
            ],
            "source": "# convert arary to dataframe\nkpis_bd = pd.DataFrame(all_kpis, columns=['kpi', 'value'])\nkpis_bd"
        },
        {
            "cell_type": "code",
            "execution_count": 26,
            "metadata": {},
            "outputs": [
                {
                    "data": {
                        "image/png": "[encoded data removed]",
                        "text/plain": "<Figure size 432x288 with 1 Axes>"
                    },
                    "metadata": {},
                    "output_type": "display_data"
                }
            ],
            "source": "# convert array to pie chart : revenue vs cost\n%matplotlib inline\nimport matplotlib.pyplot as plt\ndef display_pie(pie_values, pie_labels, colors = None, title = ''):\n    plt.axis('equal')\n    plt.pie(pie_values, labels = pie_labels, colors = colors, autopct = '%1.1f%%')\n    plt.title(title)\n    plt.show()\n\ndisplay_pie( [kpnv[1] for kpnv in all_kpis], [kpnv[0] for kpnv in all_kpis], title = 'KPIs: Revenue - Oil Cost - Production Cost - Advertise Cost' )"
        },
        {
            "cell_type": "markdown",
            "metadata": {},
            "source": "Oil and Gas details"
        },
        {
            "cell_type": "code",
            "execution_count": 27,
            "metadata": {},
            "outputs": [
                {
                    "data": {
                        "text/plain": "[[0, 10000.0, 0], [2500.0, 5500.0, 0], [2000.0, 0, 10000.0]]"
                    },
                    "execution_count": 27,
                    "metadata": {},
                    "output_type": "execute_result"
                }
            ],
            "source": "# how each si is used for each product\nmix_values = [[mix[s, p].solution_value for p in range_pr] for s in range_si]\nmix_values"
        },
        {
            "cell_type": "code",
            "execution_count": 28,
            "metadata": {},
            "outputs": [
                {
                    "data": {
                        "text/html": "<div>\n<style scoped>\n    .dataframe tbody tr th:only-of-type {\n        vertical-align: middle;\n    }\n\n    .dataframe tbody tr th {\n        vertical-align: top;\n    }\n\n    .dataframe thead th {\n        text-align: right;\n    }\n</style>\n<table border=\"1\" class=\"dataframe\">\n  <thead>\n    <tr style=\"text-align: right;\">\n      <th></th>\n      <th>mobile</th>\n      <th>client</th>\n      <th>server</th>\n    </tr>\n  </thead>\n  <tbody>\n    <tr>\n      <th>int_g1</th>\n      <td>0.0</td>\n      <td>10000.0</td>\n      <td>0.0</td>\n    </tr>\n    <tr>\n      <th>int_g2</th>\n      <td>2500.0</td>\n      <td>5500.0</td>\n      <td>0.0</td>\n    </tr>\n    <tr>\n      <th>ext_g3</th>\n      <td>2000.0</td>\n      <td>0.0</td>\n      <td>10000.0</td>\n    </tr>\n  </tbody>\n</table>\n</div>",
                        "text/plain": "        mobile   client   server\nint_g1     0.0  10000.0      0.0\nint_g2  2500.0   5500.0      0.0\next_g3  2000.0      0.0  10000.0"
                    },
                    "execution_count": 28,
                    "metadata": {},
                    "output_type": "execute_result"
                }
            ],
            "source": "# convert array to dataframe\nsi_disagg_pd = pd.DataFrame(mix_values, columns = pr_names, index = si_names)\nsi_disagg_pd"
        },
        {
            "cell_type": "code",
            "execution_count": null,
            "metadata": {},
            "outputs": [],
            "source": "# how each gas is composed by each oil\ngas_component_pd = crude_split_pd.T\ngas_component_pd"
        },
        {
            "cell_type": "code",
            "execution_count": 28,
            "metadata": {
                "scrolled": true
            },
            "outputs": [
                {
                    "ename": "NameError",
                    "evalue": "name 'gas_component_pd' is not defined",
                    "output_type": "error",
                    "traceback": [
                        "\u001b[0;31m---------------------------------------------------------------------------\u001b[0m",
                        "\u001b[0;31mNameError\u001b[0m                                 Traceback (most recent call last)",
                        "\u001b[0;32m<ipython-input-28-d05f744fb685>\u001b[0m in \u001b[0;36m<module>\u001b[0;34m\u001b[0m\n\u001b[1;32m      1\u001b[0m \u001b[0;31m# add summary column for gas_component_pd table\u001b[0m\u001b[0;34m\u001b[0m\u001b[0;34m\u001b[0m\u001b[0;34m\u001b[0m\u001b[0m\n\u001b[0;32m----> 2\u001b[0;31m \u001b[0mgas_component_pd\u001b[0m\u001b[0;34m[\u001b[0m\u001b[0;34m'sum'\u001b[0m\u001b[0;34m]\u001b[0m \u001b[0;34m=\u001b[0m \u001b[0mgas_component_pd\u001b[0m\u001b[0;34m[\u001b[0m\u001b[0mlist\u001b[0m\u001b[0;34m(\u001b[0m\u001b[0mgas_component_pd\u001b[0m\u001b[0;34m.\u001b[0m\u001b[0mcolumns\u001b[0m\u001b[0;34m)\u001b[0m\u001b[0;34m]\u001b[0m\u001b[0;34m.\u001b[0m\u001b[0msum\u001b[0m\u001b[0;34m(\u001b[0m\u001b[0maxis\u001b[0m\u001b[0;34m=\u001b[0m\u001b[0;36m1\u001b[0m\u001b[0;34m)\u001b[0m\u001b[0;34m\u001b[0m\u001b[0;34m\u001b[0m\u001b[0m\n\u001b[0m\u001b[1;32m      3\u001b[0m \u001b[0mgas_component_pd\u001b[0m\u001b[0;34m\u001b[0m\u001b[0;34m\u001b[0m\u001b[0m\n",
                        "\u001b[0;31mNameError\u001b[0m: name 'gas_component_pd' is not defined"
                    ]
                }
            ],
            "source": "# add summary column for gas_component_pd table\ngas_component_pd['sum'] = gas_component_pd[list(gas_component_pd.columns)].sum(axis=1)\ngas_component_pd"
        },
        {
            "cell_type": "code",
            "execution_count": 126,
            "metadata": {},
            "outputs": [
                {
                    "data": {
                        "image/png": "[encoded data removed]",
                        "text/plain": "<Figure size 432x288 with 1 Axes>"
                    },
                    "metadata": {},
                    "output_type": "display_data"
                }
            ],
            "source": "# convert array to pie chart : production\ndisplay_pie(gas_component_pd['sum'], gas_names, colors = ['green', 'goldenrod', 'lightGreen'], title = 'Gasoline Total Production')"
        },
        {
            "cell_type": "markdown",
            "metadata": {},
            "source": "Breakdown of oil blend quantities per gasoline type"
        },
        {
            "cell_type": "code",
            "execution_count": 127,
            "metadata": {},
            "outputs": [
                {
                    "data": {
                        "text/html": "<div>\n<style scoped>\n    .dataframe tbody tr th:only-of-type {\n        vertical-align: middle;\n    }\n\n    .dataframe tbody tr th {\n        vertical-align: top;\n    }\n\n    .dataframe thead th {\n        text-align: right;\n    }\n</style>\n<table border=\"1\" class=\"dataframe\">\n  <thead>\n    <tr style=\"text-align: right;\">\n      <th></th>\n      <th>crude1</th>\n      <th>crude2</th>\n      <th>crude3</th>\n    </tr>\n  </thead>\n  <tbody>\n    <tr>\n      <th>super</th>\n      <td>4384.615385</td>\n      <td>1644.230769</td>\n      <td>1096.153846</td>\n    </tr>\n    <tr>\n      <th>regular</th>\n      <td>615.384615</td>\n      <td>1230.769231</td>\n      <td>153.846154</td>\n    </tr>\n    <tr>\n      <th>diesel</th>\n      <td>0.000000</td>\n      <td>2125.000000</td>\n      <td>0.000000</td>\n    </tr>\n  </tbody>\n</table>\n</div>",
                        "text/plain": "              crude1       crude2       crude3\nsuper    4384.615385  1644.230769  1096.153846\nregular   615.384615  1230.769231   153.846154\ndiesel      0.000000  2125.000000     0.000000"
                    },
                    "execution_count": 127,
                    "metadata": {},
                    "output_type": "execute_result"
                }
            ],
            "source": "# drop sum\ndf = gas_component_pd.drop(columns=['sum'])\ndf"
        },
        {
            "cell_type": "code",
            "execution_count": 1,
            "metadata": {},
            "outputs": [
                {
                    "ename": "NameError",
                    "evalue": "name 'df' is not defined",
                    "output_type": "error",
                    "traceback": [
                        "\u001b[0;31m---------------------------------------------------------------------------\u001b[0m",
                        "\u001b[0;31mNameError\u001b[0m                                 Traceback (most recent call last)",
                        "\u001b[0;32m<ipython-input-1-572935f95aab>\u001b[0m in \u001b[0;36m<module>\u001b[0;34m\u001b[0m\n\u001b[1;32m      1\u001b[0m \u001b[0;32mimport\u001b[0m \u001b[0mplotly\u001b[0m\u001b[0;34m.\u001b[0m\u001b[0mexpress\u001b[0m \u001b[0;32mas\u001b[0m \u001b[0mpx\u001b[0m\u001b[0;34m\u001b[0m\u001b[0;34m\u001b[0m\u001b[0m\n\u001b[1;32m      2\u001b[0m \u001b[0;31m# plotly wide form input: ref(https://plotly.com/python/wide-form/)\u001b[0m\u001b[0;34m\u001b[0m\u001b[0;34m\u001b[0m\u001b[0;34m\u001b[0m\u001b[0m\n\u001b[0;32m----> 3\u001b[0;31m fig = px.bar(df, title = 'Gasoline Production',\n\u001b[0m\u001b[1;32m      4\u001b[0m             labels={'value':'Barrels', 'variable':'Oil Type', 'index':'Gasoline Type'})\n\u001b[1;32m      5\u001b[0m \u001b[0mfig\u001b[0m\u001b[0;34m.\u001b[0m\u001b[0mshow\u001b[0m\u001b[0;34m(\u001b[0m\u001b[0;34m)\u001b[0m\u001b[0;34m\u001b[0m\u001b[0;34m\u001b[0m\u001b[0m\n",
                        "\u001b[0;31mNameError\u001b[0m: name 'df' is not defined"
                    ]
                }
            ],
            "source": "import plotly.express as px\n# plotly wide form input: ref(https://plotly.com/python/wide-form/)\nfig = px.bar(df, title = 'Gasoline Production',\n            labels={'value':'Barrels', 'variable':'Oil Type', 'index':'Gasoline Type'})\nfig.show()"
        }
    ],
    "metadata": {
        "kernelspec": {
            "display_name": "Python 3.7",
            "language": "python",
            "name": "python3"
        },
        "language_info": {
            "codemirror_mode": {
                "name": "ipython",
                "version": 3
            },
            "file_extension": ".py",
            "mimetype": "text/x-python",
            "name": "python",
            "nbconvert_exporter": "python",
            "pygments_lexer": "ipython3",
            "version": "3.7.10"
        }
    },
    "nbformat": 4,
    "nbformat_minor": 1
}